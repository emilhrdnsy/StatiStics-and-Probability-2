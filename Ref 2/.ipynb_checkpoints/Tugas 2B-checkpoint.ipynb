{
 "cells": [
  {
   "cell_type": "code",
   "execution_count": 1,
   "id": "58b8786d",
   "metadata": {},
   "outputs": [],
   "source": [
    "%matplotlib inline\n",
    "import random #untuk menghasilkan angka acak di Python.\n",
    "import datetime\n",
    "import pandas as pd #untuk proses analisis data, mengelola data berbentuk table atau dataframe dan manipulasi data\n",
    "import matplotlib.pyplot as plt #lib untuk visualisasi data seperti grafik histogram, diagram batang dan jenis diagram lainnya\n",
    "import statistics\n",
    "import numpy as np  #untuk membuat objek kelas array tunggal dan multidimensi\n",
    "import scipy #Scientific Python untuk keperluan komputasi saintifik\n",
    "from scipy import stats #untuk memberi pengguna pengetahuan tentang paket ini.\n",
    "import seaborn #untuk visualisasi data yang dibangun di atas matplotlib."
   ]
  },
  {
   "cell_type": "code",
   "execution_count": 3,
   "id": "ca936457",
   "metadata": {},
   "outputs": [],
   "source": [
    "data = pd.read_csv('C:/Users/ASUS/Tugas 2 - Analisis Big Data/trip.csv') # Membaca file dataset"
   ]
  },
  {
   "cell_type": "code",
   "execution_count": 27,
   "id": "1a5c29db",
   "metadata": {},
   "outputs": [
    {
     "name": "stdout",
     "output_type": "stream",
     "text": [
      "236065\n"
     ]
    },
    {
     "data": {
      "text/html": [
       "<div>\n",
       "<style scoped>\n",
       "    .dataframe tbody tr th:only-of-type {\n",
       "        vertical-align: middle;\n",
       "    }\n",
       "\n",
       "    .dataframe tbody tr th {\n",
       "        vertical-align: top;\n",
       "    }\n",
       "\n",
       "    .dataframe thead th {\n",
       "        text-align: right;\n",
       "    }\n",
       "</style>\n",
       "<table border=\"1\" class=\"dataframe\">\n",
       "  <thead>\n",
       "    <tr style=\"text-align: right;\">\n",
       "      <th></th>\n",
       "      <th>trip_id</th>\n",
       "      <th>starttime</th>\n",
       "      <th>stoptime</th>\n",
       "      <th>bikeid</th>\n",
       "      <th>tripduration</th>\n",
       "      <th>from_station_name</th>\n",
       "      <th>to_station_name</th>\n",
       "      <th>from_station_id</th>\n",
       "      <th>to_station_id</th>\n",
       "      <th>usertype</th>\n",
       "      <th>gender</th>\n",
       "      <th>birthyear</th>\n",
       "      <th>tripduration_mean</th>\n",
       "    </tr>\n",
       "  </thead>\n",
       "  <tbody>\n",
       "    <tr>\n",
       "      <th>236060</th>\n",
       "      <td>255241</td>\n",
       "      <td>8/31/2016 23:34</td>\n",
       "      <td>8/31/2016 23:45</td>\n",
       "      <td>SEA00201</td>\n",
       "      <td>679.532</td>\n",
       "      <td>Harvard Ave &amp; E Pine St</td>\n",
       "      <td>2nd Ave &amp; Spring St</td>\n",
       "      <td>CH-09</td>\n",
       "      <td>CBD-06</td>\n",
       "      <td>Short-Term Pass Holder</td>\n",
       "      <td>NaN</td>\n",
       "      <td>NaN</td>\n",
       "      <td>679.532</td>\n",
       "    </tr>\n",
       "    <tr>\n",
       "      <th>236061</th>\n",
       "      <td>255242</td>\n",
       "      <td>8/31/2016 23:48</td>\n",
       "      <td>9/1/2016 0:20</td>\n",
       "      <td>SEA00247</td>\n",
       "      <td>1965.418</td>\n",
       "      <td>Cal Anderson Park / 11th Ave &amp; Pine St</td>\n",
       "      <td>6th Ave S &amp; S King St</td>\n",
       "      <td>CH-08</td>\n",
       "      <td>ID-04</td>\n",
       "      <td>Short-Term Pass Holder</td>\n",
       "      <td>NaN</td>\n",
       "      <td>NaN</td>\n",
       "      <td>1965.418</td>\n",
       "    </tr>\n",
       "    <tr>\n",
       "      <th>236062</th>\n",
       "      <td>255243</td>\n",
       "      <td>8/31/2016 23:47</td>\n",
       "      <td>9/1/2016 0:20</td>\n",
       "      <td>SEA00300</td>\n",
       "      <td>1951.173</td>\n",
       "      <td>Cal Anderson Park / 11th Ave &amp; Pine St</td>\n",
       "      <td>6th Ave S &amp; S King St</td>\n",
       "      <td>CH-08</td>\n",
       "      <td>ID-04</td>\n",
       "      <td>Short-Term Pass Holder</td>\n",
       "      <td>NaN</td>\n",
       "      <td>NaN</td>\n",
       "      <td>1951.173</td>\n",
       "    </tr>\n",
       "    <tr>\n",
       "      <th>236063</th>\n",
       "      <td>255244</td>\n",
       "      <td>8/31/2016 23:49</td>\n",
       "      <td>9/1/2016 0:20</td>\n",
       "      <td>SEA00047</td>\n",
       "      <td>1883.299</td>\n",
       "      <td>Cal Anderson Park / 11th Ave &amp; Pine St</td>\n",
       "      <td>6th Ave S &amp; S King St</td>\n",
       "      <td>CH-08</td>\n",
       "      <td>ID-04</td>\n",
       "      <td>Short-Term Pass Holder</td>\n",
       "      <td>NaN</td>\n",
       "      <td>NaN</td>\n",
       "      <td>1883.299</td>\n",
       "    </tr>\n",
       "    <tr>\n",
       "      <th>236064</th>\n",
       "      <td>255245</td>\n",
       "      <td>8/31/2016 23:49</td>\n",
       "      <td>9/1/2016 0:20</td>\n",
       "      <td>SEA00442</td>\n",
       "      <td>1896.031</td>\n",
       "      <td>Cal Anderson Park / 11th Ave &amp; Pine St</td>\n",
       "      <td>6th Ave S &amp; S King St</td>\n",
       "      <td>CH-08</td>\n",
       "      <td>ID-04</td>\n",
       "      <td>Short-Term Pass Holder</td>\n",
       "      <td>NaN</td>\n",
       "      <td>NaN</td>\n",
       "      <td>1896.031</td>\n",
       "    </tr>\n",
       "  </tbody>\n",
       "</table>\n",
       "</div>"
      ],
      "text/plain": [
       "        trip_id        starttime         stoptime    bikeid  tripduration  \\\n",
       "236060   255241  8/31/2016 23:34  8/31/2016 23:45  SEA00201       679.532   \n",
       "236061   255242  8/31/2016 23:48    9/1/2016 0:20  SEA00247      1965.418   \n",
       "236062   255243  8/31/2016 23:47    9/1/2016 0:20  SEA00300      1951.173   \n",
       "236063   255244  8/31/2016 23:49    9/1/2016 0:20  SEA00047      1883.299   \n",
       "236064   255245  8/31/2016 23:49    9/1/2016 0:20  SEA00442      1896.031   \n",
       "\n",
       "                             from_station_name        to_station_name  \\\n",
       "236060                 Harvard Ave & E Pine St    2nd Ave & Spring St   \n",
       "236061  Cal Anderson Park / 11th Ave & Pine St  6th Ave S & S King St   \n",
       "236062  Cal Anderson Park / 11th Ave & Pine St  6th Ave S & S King St   \n",
       "236063  Cal Anderson Park / 11th Ave & Pine St  6th Ave S & S King St   \n",
       "236064  Cal Anderson Park / 11th Ave & Pine St  6th Ave S & S King St   \n",
       "\n",
       "       from_station_id to_station_id                usertype gender  \\\n",
       "236060           CH-09        CBD-06  Short-Term Pass Holder    NaN   \n",
       "236061           CH-08         ID-04  Short-Term Pass Holder    NaN   \n",
       "236062           CH-08         ID-04  Short-Term Pass Holder    NaN   \n",
       "236063           CH-08         ID-04  Short-Term Pass Holder    NaN   \n",
       "236064           CH-08         ID-04  Short-Term Pass Holder    NaN   \n",
       "\n",
       "        birthyear  tripduration_mean  \n",
       "236060        NaN            679.532  \n",
       "236061        NaN           1965.418  \n",
       "236062        NaN           1951.173  \n",
       "236063        NaN           1883.299  \n",
       "236064        NaN           1896.031  "
      ]
     },
     "execution_count": 27,
     "metadata": {},
     "output_type": "execute_result"
    }
   ],
   "source": [
    "print(len(data))\n",
    "data.tail()"
   ]
  },
  {
   "cell_type": "markdown",
   "id": "22d0338b",
   "metadata": {},
   "source": [
    "### a. Find the mean, median, and mode of the trip duration of gender type male."
   ]
  },
  {
   "cell_type": "code",
   "execution_count": 29,
   "id": "9ece590e",
   "metadata": {},
   "outputs": [
    {
     "data": {
      "text/html": [
       "<div>\n",
       "<style scoped>\n",
       "    .dataframe tbody tr th:only-of-type {\n",
       "        vertical-align: middle;\n",
       "    }\n",
       "\n",
       "    .dataframe tbody tr th {\n",
       "        vertical-align: top;\n",
       "    }\n",
       "\n",
       "    .dataframe thead th {\n",
       "        text-align: right;\n",
       "    }\n",
       "</style>\n",
       "<table border=\"1\" class=\"dataframe\">\n",
       "  <thead>\n",
       "    <tr style=\"text-align: right;\">\n",
       "      <th></th>\n",
       "      <th>trip_id</th>\n",
       "      <th>starttime</th>\n",
       "      <th>stoptime</th>\n",
       "      <th>bikeid</th>\n",
       "      <th>tripduration</th>\n",
       "      <th>from_station_name</th>\n",
       "      <th>to_station_name</th>\n",
       "      <th>from_station_id</th>\n",
       "      <th>to_station_id</th>\n",
       "      <th>usertype</th>\n",
       "      <th>gender</th>\n",
       "      <th>birthyear</th>\n",
       "      <th>tripduration_mean</th>\n",
       "    </tr>\n",
       "  </thead>\n",
       "  <tbody>\n",
       "    <tr>\n",
       "      <th>0</th>\n",
       "      <td>431</td>\n",
       "      <td>10/13/2014 10:31</td>\n",
       "      <td>10/13/2014 10:48</td>\n",
       "      <td>SEA00298</td>\n",
       "      <td>985.935</td>\n",
       "      <td>2nd Ave &amp; Spring St</td>\n",
       "      <td>Occidental Park / Occidental Ave S &amp; S Washing...</td>\n",
       "      <td>CBD-06</td>\n",
       "      <td>PS-04</td>\n",
       "      <td>Member</td>\n",
       "      <td>Male</td>\n",
       "      <td>1960.0</td>\n",
       "      <td>985.935</td>\n",
       "    </tr>\n",
       "    <tr>\n",
       "      <th>1</th>\n",
       "      <td>432</td>\n",
       "      <td>10/13/2014 10:32</td>\n",
       "      <td>10/13/2014 10:48</td>\n",
       "      <td>SEA00195</td>\n",
       "      <td>926.375</td>\n",
       "      <td>2nd Ave &amp; Spring St</td>\n",
       "      <td>Occidental Park / Occidental Ave S &amp; S Washing...</td>\n",
       "      <td>CBD-06</td>\n",
       "      <td>PS-04</td>\n",
       "      <td>Member</td>\n",
       "      <td>Male</td>\n",
       "      <td>1970.0</td>\n",
       "      <td>926.375</td>\n",
       "    </tr>\n",
       "    <tr>\n",
       "      <th>4</th>\n",
       "      <td>435</td>\n",
       "      <td>10/13/2014 10:34</td>\n",
       "      <td>10/13/2014 10:49</td>\n",
       "      <td>SEA00202</td>\n",
       "      <td>923.923</td>\n",
       "      <td>2nd Ave &amp; Spring St</td>\n",
       "      <td>Occidental Park / Occidental Ave S &amp; S Washing...</td>\n",
       "      <td>CBD-06</td>\n",
       "      <td>PS-04</td>\n",
       "      <td>Member</td>\n",
       "      <td>Male</td>\n",
       "      <td>1971.0</td>\n",
       "      <td>923.923</td>\n",
       "    </tr>\n",
       "    <tr>\n",
       "      <th>5</th>\n",
       "      <td>436</td>\n",
       "      <td>10/13/2014 10:34</td>\n",
       "      <td>10/13/2014 10:47</td>\n",
       "      <td>SEA00337</td>\n",
       "      <td>808.805</td>\n",
       "      <td>2nd Ave &amp; Spring St</td>\n",
       "      <td>Occidental Park / Occidental Ave S &amp; S Washing...</td>\n",
       "      <td>CBD-06</td>\n",
       "      <td>PS-04</td>\n",
       "      <td>Member</td>\n",
       "      <td>Male</td>\n",
       "      <td>1974.0</td>\n",
       "      <td>808.805</td>\n",
       "    </tr>\n",
       "    <tr>\n",
       "      <th>6</th>\n",
       "      <td>437</td>\n",
       "      <td>10/13/2014 11:35</td>\n",
       "      <td>10/13/2014 11:45</td>\n",
       "      <td>SEA00202</td>\n",
       "      <td>596.715</td>\n",
       "      <td>Occidental Park / Occidental Ave S &amp; S Washing...</td>\n",
       "      <td>King Street Station Plaza / 2nd Ave Extension ...</td>\n",
       "      <td>PS-04</td>\n",
       "      <td>PS-05</td>\n",
       "      <td>Member</td>\n",
       "      <td>Male</td>\n",
       "      <td>1978.0</td>\n",
       "      <td>596.715</td>\n",
       "    </tr>\n",
       "    <tr>\n",
       "      <th>...</th>\n",
       "      <td>...</td>\n",
       "      <td>...</td>\n",
       "      <td>...</td>\n",
       "      <td>...</td>\n",
       "      <td>...</td>\n",
       "      <td>...</td>\n",
       "      <td>...</td>\n",
       "      <td>...</td>\n",
       "      <td>...</td>\n",
       "      <td>...</td>\n",
       "      <td>...</td>\n",
       "      <td>...</td>\n",
       "      <td>...</td>\n",
       "    </tr>\n",
       "    <tr>\n",
       "      <th>236049</th>\n",
       "      <td>255230</td>\n",
       "      <td>8/31/2016 21:27</td>\n",
       "      <td>8/31/2016 21:30</td>\n",
       "      <td>SEA00056</td>\n",
       "      <td>198.324</td>\n",
       "      <td>Republican St &amp; Westlake Ave N</td>\n",
       "      <td>Dexter Ave N &amp; Aloha St</td>\n",
       "      <td>SLU-04</td>\n",
       "      <td>SLU-02</td>\n",
       "      <td>Member</td>\n",
       "      <td>Male</td>\n",
       "      <td>1981.0</td>\n",
       "      <td>198.324</td>\n",
       "    </tr>\n",
       "    <tr>\n",
       "      <th>236051</th>\n",
       "      <td>255232</td>\n",
       "      <td>8/31/2016 21:59</td>\n",
       "      <td>8/31/2016 22:04</td>\n",
       "      <td>SEA00499</td>\n",
       "      <td>308.484</td>\n",
       "      <td>E Harrison St &amp; Broadway Ave E</td>\n",
       "      <td>Bellevue Ave &amp; E Pine St</td>\n",
       "      <td>CH-02</td>\n",
       "      <td>CH-12</td>\n",
       "      <td>Member</td>\n",
       "      <td>Male</td>\n",
       "      <td>1989.0</td>\n",
       "      <td>308.484</td>\n",
       "    </tr>\n",
       "    <tr>\n",
       "      <th>236053</th>\n",
       "      <td>255234</td>\n",
       "      <td>8/31/2016 22:02</td>\n",
       "      <td>8/31/2016 22:17</td>\n",
       "      <td>SEA00448</td>\n",
       "      <td>879.160</td>\n",
       "      <td>Key Arena / 1st Ave N &amp; Harrison St</td>\n",
       "      <td>Pier 66 / Alaskan Way &amp; Bell St</td>\n",
       "      <td>SLU-19</td>\n",
       "      <td>WF-03</td>\n",
       "      <td>Member</td>\n",
       "      <td>Male</td>\n",
       "      <td>1981.0</td>\n",
       "      <td>879.160</td>\n",
       "    </tr>\n",
       "    <tr>\n",
       "      <th>236055</th>\n",
       "      <td>255236</td>\n",
       "      <td>8/31/2016 22:13</td>\n",
       "      <td>8/31/2016 22:25</td>\n",
       "      <td>SEA00254</td>\n",
       "      <td>674.993</td>\n",
       "      <td>3rd Ave &amp; Broad St</td>\n",
       "      <td>Occidental Park / Occidental Ave S &amp; S Washing...</td>\n",
       "      <td>BT-01</td>\n",
       "      <td>PS-04</td>\n",
       "      <td>Member</td>\n",
       "      <td>Male</td>\n",
       "      <td>1984.0</td>\n",
       "      <td>674.993</td>\n",
       "    </tr>\n",
       "    <tr>\n",
       "      <th>236056</th>\n",
       "      <td>255237</td>\n",
       "      <td>8/31/2016 22:37</td>\n",
       "      <td>8/31/2016 22:39</td>\n",
       "      <td>SEA00330</td>\n",
       "      <td>144.477</td>\n",
       "      <td>Summit Ave &amp; E Denny Way</td>\n",
       "      <td>Summit Ave E &amp; E Republican St</td>\n",
       "      <td>CH-01</td>\n",
       "      <td>CH-03</td>\n",
       "      <td>Member</td>\n",
       "      <td>Male</td>\n",
       "      <td>1990.0</td>\n",
       "      <td>144.477</td>\n",
       "    </tr>\n",
       "  </tbody>\n",
       "</table>\n",
       "<p>112940 rows × 13 columns</p>\n",
       "</div>"
      ],
      "text/plain": [
       "        trip_id         starttime          stoptime    bikeid  tripduration  \\\n",
       "0           431  10/13/2014 10:31  10/13/2014 10:48  SEA00298       985.935   \n",
       "1           432  10/13/2014 10:32  10/13/2014 10:48  SEA00195       926.375   \n",
       "4           435  10/13/2014 10:34  10/13/2014 10:49  SEA00202       923.923   \n",
       "5           436  10/13/2014 10:34  10/13/2014 10:47  SEA00337       808.805   \n",
       "6           437  10/13/2014 11:35  10/13/2014 11:45  SEA00202       596.715   \n",
       "...         ...               ...               ...       ...           ...   \n",
       "236049   255230   8/31/2016 21:27   8/31/2016 21:30  SEA00056       198.324   \n",
       "236051   255232   8/31/2016 21:59   8/31/2016 22:04  SEA00499       308.484   \n",
       "236053   255234   8/31/2016 22:02   8/31/2016 22:17  SEA00448       879.160   \n",
       "236055   255236   8/31/2016 22:13   8/31/2016 22:25  SEA00254       674.993   \n",
       "236056   255237   8/31/2016 22:37   8/31/2016 22:39  SEA00330       144.477   \n",
       "\n",
       "                                        from_station_name  \\\n",
       "0                                     2nd Ave & Spring St   \n",
       "1                                     2nd Ave & Spring St   \n",
       "4                                     2nd Ave & Spring St   \n",
       "5                                     2nd Ave & Spring St   \n",
       "6       Occidental Park / Occidental Ave S & S Washing...   \n",
       "...                                                   ...   \n",
       "236049                     Republican St & Westlake Ave N   \n",
       "236051                     E Harrison St & Broadway Ave E   \n",
       "236053                Key Arena / 1st Ave N & Harrison St   \n",
       "236055                                 3rd Ave & Broad St   \n",
       "236056                           Summit Ave & E Denny Way   \n",
       "\n",
       "                                          to_station_name from_station_id  \\\n",
       "0       Occidental Park / Occidental Ave S & S Washing...          CBD-06   \n",
       "1       Occidental Park / Occidental Ave S & S Washing...          CBD-06   \n",
       "4       Occidental Park / Occidental Ave S & S Washing...          CBD-06   \n",
       "5       Occidental Park / Occidental Ave S & S Washing...          CBD-06   \n",
       "6       King Street Station Plaza / 2nd Ave Extension ...           PS-04   \n",
       "...                                                   ...             ...   \n",
       "236049                            Dexter Ave N & Aloha St          SLU-04   \n",
       "236051                           Bellevue Ave & E Pine St           CH-02   \n",
       "236053                    Pier 66 / Alaskan Way & Bell St          SLU-19   \n",
       "236055  Occidental Park / Occidental Ave S & S Washing...           BT-01   \n",
       "236056                     Summit Ave E & E Republican St           CH-01   \n",
       "\n",
       "       to_station_id usertype gender  birthyear  tripduration_mean  \n",
       "0              PS-04   Member   Male     1960.0            985.935  \n",
       "1              PS-04   Member   Male     1970.0            926.375  \n",
       "4              PS-04   Member   Male     1971.0            923.923  \n",
       "5              PS-04   Member   Male     1974.0            808.805  \n",
       "6              PS-05   Member   Male     1978.0            596.715  \n",
       "...              ...      ...    ...        ...                ...  \n",
       "236049        SLU-02   Member   Male     1981.0            198.324  \n",
       "236051         CH-12   Member   Male     1989.0            308.484  \n",
       "236053         WF-03   Member   Male     1981.0            879.160  \n",
       "236055         PS-04   Member   Male     1984.0            674.993  \n",
       "236056         CH-03   Member   Male     1990.0            144.477  \n",
       "\n",
       "[112940 rows x 13 columns]"
      ]
     },
     "execution_count": 29,
     "metadata": {},
     "output_type": "execute_result"
    }
   ],
   "source": [
    "data_male = data[data['gender'] == 'Male']\n",
    "data_male"
   ]
  },
  {
   "cell_type": "code",
   "execution_count": 30,
   "id": "43f51d34",
   "metadata": {
    "scrolled": true
   },
   "outputs": [
    {
     "name": "stdout",
     "output_type": "stream",
     "text": [
      "Mean of trip duration: 563.402797\n",
      "Median of trip duration: 458.451500\n",
      "Mode of station originating from: E Pine St & 16th Ave\n"
     ]
    }
   ],
   "source": [
    "trip_duration = list(data_male['tripduration'])\n",
    "station_from = list(data_male['from_station_name'])\n",
    "print ('Mean of trip duration: %f' %statistics.mean(trip_duration))\n",
    "print ('Median of trip duration: %f' %statistics.median(trip_duration))\n",
    "print ('Mode of station originating from: %s' %statistics.mode(station_from))"
   ]
  },
  {
   "cell_type": "raw",
   "id": "d67d47eb",
   "metadata": {},
   "source": [
    "Mean of trip duration: 563.402797 Median of trip duration: 458.451500 Mode of station originating from: E Pine St & 16th Ave"
   ]
  },
  {
   "cell_type": "markdown",
   "id": "8235e4b1",
   "metadata": {},
   "source": [
    "### b. By looking at the numbers obtained earlier, in your opinion is the distribution symmetric or skewed? If skewed, then is is it positively skewed or negatively skewed?"
   ]
  },
  {
   "cell_type": "markdown",
   "id": "beb115ba",
   "metadata": {},
   "source": [
    "Berdasarkan rata-rata yang lebih besar dibandingkan nilai tengah atau Mean > Median\n",
    "\n",
    "ada kemungkinan distribusinya tidak simetris karena jarak antara mean dan median jauh, dan distribusinya kemungkinan miring.\n",
    "\n",
    "Untuk kemiringan distribusi tidak bisa ditebak, karena positively skewed dan negatively skewed sama-sama bisa terjadi karena mean > median begitupun sebaliknya"
   ]
  },
  {
   "cell_type": "markdown",
   "id": "f2c94d6a",
   "metadata": {},
   "source": [
    "### C. Plot a frequency distribution of trip duration for trips availed by gender type male. Does it validate your inference as you did so in the previous question?"
   ]
  },
  {
   "cell_type": "code",
   "execution_count": 31,
   "id": "431e293c",
   "metadata": {},
   "outputs": [
    {
     "data": {
      "image/png": "[encoded data removed]",
      "text/plain": [
       "<Figure size 432x288 with 1 Axes>"
      ]
     },
     "metadata": {
      "needs_background": "light"
     },
     "output_type": "display_data"
    }
   ],
   "source": [
    "data_male['tripduration'].plot.hist(bins=100, title='Frequency distribution of Trip duration')\n",
    "plt.show()"
   ]
  },
  {
   "cell_type": "markdown",
   "id": "e47dc8ec",
   "metadata": {},
   "source": [
    "Berdasarkan jumlah distribusi diatas didapatkan bahwa distribusinya tidak simetris dan lebih miring ke arah positif atau positively skewed"
   ]
  },
  {
   "cell_type": "markdown",
   "id": "c7720279",
   "metadata": {},
   "source": [
    "### d. Plot a box plot of the trip duration of trips taken by males. Do you think any outliers exist?"
   ]
  },
  {
   "cell_type": "code",
   "execution_count": 32,
   "id": "13d30df4",
   "metadata": {},
   "outputs": [
    {
     "data": {
      "image/png": "[encoded data removed]",
      "text/plain": [
       "<Figure size 432x288 with 1 Axes>"
      ]
     },
     "metadata": {
      "needs_background": "light"
     },
     "output_type": "display_data"
    }
   ],
   "source": [
    "box = data_male.boxplot(column=['tripduration'], showfliers = True)\n",
    "plt.show()"
   ]
  },
  {
   "cell_type": "markdown",
   "id": "5a8c58f1",
   "metadata": {},
   "source": [
    "Menurut saya masih ada outliers karena masih banyak representasi outliers yang yang berada di atas whisker"
   ]
  },
  {
   "cell_type": "markdown",
   "id": "9743fdff",
   "metadata": {},
   "source": [
    "### e. Apply the formula in Listing 1-19 to determine the percentage of observations for which outliers exists.\n"
   ]
  },
  {
   "cell_type": "code",
   "execution_count": 33,
   "id": "d952ecc6",
   "metadata": {},
   "outputs": [
    {
     "name": "stdout",
     "output_type": "stream",
     "text": [
      "Proportion of values as outlier: 5.030104 percent\n"
     ]
    }
   ],
   "source": [
    "q75, q25 = np.percentile(trip_duration, [75 ,25])\n",
    "iqr = q75 - q25\n",
    "print ('Proportion of values as outlier: %f percent' \n",
    "       %((len(data_male) - len([x for x in trip_duration \n",
    "                                if q75+(1.5*iqr)>=x>= q25-(1.5*iqr)]))*100/float(len(data_male))))"
   ]
  },
  {
   "cell_type": "markdown",
   "id": "68a71590",
   "metadata": {},
   "source": [
    "### f. Perform the treatment of outliers by incorporating one of the methods we discussed earlier for the treatment of outliers (lihat penjelasan di halaman 28). Untuk STB Ganjil gunakan metode \"replace outliers with mean\", STB Genap gunakan metode \"transform the outlier values to upper boundary atau to lower boundary)."
   ]
  },
  {
   "cell_type": "code",
   "execution_count": 34,
   "id": "1af523c6",
   "metadata": {},
   "outputs": [
    {
     "data": {
      "image/png": "[encoded data removed]",
      "text/plain": [
       "<Figure size 432x288 with 1 Axes>"
      ]
     },
     "metadata": {
      "needs_background": "light"
     },
     "output_type": "display_data"
    }
   ],
   "source": [
    "mean_trip_duration = np.mean([x for x in trip_duration if q75+(1.5*iqr) >=x>= q25-(1.5*iqr)])\n",
    "upper_whisker = q75+(1.5*iqr)\n",
    "\n",
    "def transform_tripduration(x):\n",
    "    if x > upper_whisker:\n",
    "        return mean_trip_duration\n",
    "    return x\n",
    "\n",
    "data['tripduration_mean'] = data_male['tripduration'].apply( lambda x: transform_tripduration(x))\n",
    "data['tripduration_mean'].plot.hist( bins=100, title='Frequency distribution of mean transformed Trip duration')\n",
    "plt.show()"
   ]
  }
 ],
 "metadata": {
  "kernelspec": {
   "display_name": "Python 3 (ipykernel)",
   "language": "python",
   "name": "python3"
  },
  "language_info": {
   "codemirror_mode": {
    "name": "ipython",
    "version": 3
   },
   "file_extension": ".py",
   "mimetype": "text/x-python",
   "name": "python",
   "nbconvert_exporter": "python",
   "pygments_lexer": "ipython3",
   "version": "3.9.13"
  }
 },
 "nbformat": 4,
 "nbformat_minor": 5
}
