{
 "cells": [
  {
   "cell_type": "code",
   "execution_count": 1,
   "id": "84731ff2",
   "metadata": {},
   "outputs": [],
   "source": [
    "### Tabita Gabriela E. S | D082221007 ###\n",
    "\n",
    "%matplotlib inline\n",
    "\n",
    "import pandas as pd\n",
    "import numpy as np\n",
    "import matplotlib.pyplot as plt\n",
    "import statistics"
   ]
  },
  {
   "cell_type": "code",
   "execution_count": 2,
   "id": "87b682d2",
   "metadata": {},
   "outputs": [
    {
     "data": {
      "text/html": [
       "<div>\n",
       "<style scoped>\n",
       "    .dataframe tbody tr th:only-of-type {\n",
       "        vertical-align: middle;\n",
       "    }\n",
       "\n",
       "    .dataframe tbody tr th {\n",
       "        vertical-align: top;\n",
       "    }\n",
       "\n",
       "    .dataframe thead th {\n",
       "        text-align: right;\n",
       "    }\n",
       "</style>\n",
       "<table border=\"1\" class=\"dataframe\">\n",
       "  <thead>\n",
       "    <tr style=\"text-align: right;\">\n",
       "      <th></th>\n",
       "      <th>trip_id</th>\n",
       "      <th>starttime</th>\n",
       "      <th>stoptime</th>\n",
       "      <th>bikeid</th>\n",
       "      <th>tripduration</th>\n",
       "      <th>from_station_name</th>\n",
       "      <th>to_station_name</th>\n",
       "      <th>from_station_id</th>\n",
       "      <th>to_station_id</th>\n",
       "      <th>usertype</th>\n",
       "      <th>gender</th>\n",
       "      <th>birthyear</th>\n",
       "    </tr>\n",
       "  </thead>\n",
       "  <tbody>\n",
       "    <tr>\n",
       "      <th>0</th>\n",
       "      <td>431</td>\n",
       "      <td>10/13/2014 10:31</td>\n",
       "      <td>10/13/2014 10:48</td>\n",
       "      <td>SEA00298</td>\n",
       "      <td>985.935</td>\n",
       "      <td>2nd Ave &amp; Spring St</td>\n",
       "      <td>Occidental Park / Occidental Ave S &amp; S Washing...</td>\n",
       "      <td>CBD-06</td>\n",
       "      <td>PS-04</td>\n",
       "      <td>Member</td>\n",
       "      <td>Male</td>\n",
       "      <td>1960.0</td>\n",
       "    </tr>\n",
       "    <tr>\n",
       "      <th>1</th>\n",
       "      <td>432</td>\n",
       "      <td>10/13/2014 10:32</td>\n",
       "      <td>10/13/2014 10:48</td>\n",
       "      <td>SEA00195</td>\n",
       "      <td>926.375</td>\n",
       "      <td>2nd Ave &amp; Spring St</td>\n",
       "      <td>Occidental Park / Occidental Ave S &amp; S Washing...</td>\n",
       "      <td>CBD-06</td>\n",
       "      <td>PS-04</td>\n",
       "      <td>Member</td>\n",
       "      <td>Male</td>\n",
       "      <td>1970.0</td>\n",
       "    </tr>\n",
       "    <tr>\n",
       "      <th>2</th>\n",
       "      <td>433</td>\n",
       "      <td>10/13/2014 10:33</td>\n",
       "      <td>10/13/2014 10:48</td>\n",
       "      <td>SEA00486</td>\n",
       "      <td>883.831</td>\n",
       "      <td>2nd Ave &amp; Spring St</td>\n",
       "      <td>Occidental Park / Occidental Ave S &amp; S Washing...</td>\n",
       "      <td>CBD-06</td>\n",
       "      <td>PS-04</td>\n",
       "      <td>Member</td>\n",
       "      <td>Female</td>\n",
       "      <td>1988.0</td>\n",
       "    </tr>\n",
       "    <tr>\n",
       "      <th>3</th>\n",
       "      <td>434</td>\n",
       "      <td>10/13/2014 10:34</td>\n",
       "      <td>10/13/2014 10:48</td>\n",
       "      <td>SEA00333</td>\n",
       "      <td>865.937</td>\n",
       "      <td>2nd Ave &amp; Spring St</td>\n",
       "      <td>Occidental Park / Occidental Ave S &amp; S Washing...</td>\n",
       "      <td>CBD-06</td>\n",
       "      <td>PS-04</td>\n",
       "      <td>Member</td>\n",
       "      <td>Female</td>\n",
       "      <td>1977.0</td>\n",
       "    </tr>\n",
       "    <tr>\n",
       "      <th>4</th>\n",
       "      <td>435</td>\n",
       "      <td>10/13/2014 10:34</td>\n",
       "      <td>10/13/2014 10:49</td>\n",
       "      <td>SEA00202</td>\n",
       "      <td>923.923</td>\n",
       "      <td>2nd Ave &amp; Spring St</td>\n",
       "      <td>Occidental Park / Occidental Ave S &amp; S Washing...</td>\n",
       "      <td>CBD-06</td>\n",
       "      <td>PS-04</td>\n",
       "      <td>Member</td>\n",
       "      <td>Male</td>\n",
       "      <td>1971.0</td>\n",
       "    </tr>\n",
       "  </tbody>\n",
       "</table>\n",
       "</div>"
      ],
      "text/plain": [
       "   trip_id         starttime          stoptime    bikeid  tripduration  \\\n",
       "0      431  10/13/2014 10:31  10/13/2014 10:48  SEA00298       985.935   \n",
       "1      432  10/13/2014 10:32  10/13/2014 10:48  SEA00195       926.375   \n",
       "2      433  10/13/2014 10:33  10/13/2014 10:48  SEA00486       883.831   \n",
       "3      434  10/13/2014 10:34  10/13/2014 10:48  SEA00333       865.937   \n",
       "4      435  10/13/2014 10:34  10/13/2014 10:49  SEA00202       923.923   \n",
       "\n",
       "     from_station_name                                    to_station_name  \\\n",
       "0  2nd Ave & Spring St  Occidental Park / Occidental Ave S & S Washing...   \n",
       "1  2nd Ave & Spring St  Occidental Park / Occidental Ave S & S Washing...   \n",
       "2  2nd Ave & Spring St  Occidental Park / Occidental Ave S & S Washing...   \n",
       "3  2nd Ave & Spring St  Occidental Park / Occidental Ave S & S Washing...   \n",
       "4  2nd Ave & Spring St  Occidental Park / Occidental Ave S & S Washing...   \n",
       "\n",
       "  from_station_id to_station_id usertype  gender  birthyear  \n",
       "0          CBD-06         PS-04   Member    Male     1960.0  \n",
       "1          CBD-06         PS-04   Member    Male     1970.0  \n",
       "2          CBD-06         PS-04   Member  Female     1988.0  \n",
       "3          CBD-06         PS-04   Member  Female     1977.0  \n",
       "4          CBD-06         PS-04   Member    Male     1971.0  "
      ]
     },
     "execution_count": 2,
     "metadata": {},
     "output_type": "execute_result"
    }
   ],
   "source": [
    "data = pd.read_csv('trip')\n",
    "data.head()"
   ]
  },
  {
   "cell_type": "markdown",
   "id": "255d7eeb",
   "metadata": {},
   "source": [
    "# Listing 1-15"
   ]
  },
  {
   "cell_type": "code",
   "execution_count": 3,
   "id": "b29af9b8",
   "metadata": {},
   "outputs": [
    {
     "name": "stdout",
     "output_type": "stream",
     "text": [
      "Mean of trip duration: 1202.612210\n",
      "Mean of trip duration: 633.235000\n",
      "Mean of trip duration: 466.174000\n",
      "Mode of station originating from: Pier 69 / Alaskan Way & Clay St\n"
     ]
    }
   ],
   "source": [
    "trip_duration = list(data['tripduration'])\n",
    "station_from = list(data['from_station_name'])\n",
    "print('Mean of trip duration: %f'%statistics.mean(trip_duration))\n",
    "print('Mean of trip duration: %f'%statistics.median(trip_duration))\n",
    "print('Mean of trip duration: %f'%statistics.mode(trip_duration))\n",
    "print('Mode of station originating from: %s'%statistics.mode(station_from))"
   ]
  },
  {
   "cell_type": "markdown",
   "id": "d8ca3a40",
   "metadata": {},
   "source": [
    "# Listing 1-16"
   ]
  },
  {
   "cell_type": "raw",
   "id": "f4f9185a",
   "metadata": {},
   "source": [
    "data['tripduration'].plot.hist(bins=100, title='Frequency distribution of Trip duration')\n",
    "plt.show()"
   ]
  },
  {
   "cell_type": "markdown",
   "id": "65886737",
   "metadata": {},
   "source": [
    "# Listing 1-17"
   ]
  },
  {
   "cell_type": "code",
   "execution_count": null,
   "id": "cc6efdc7",
   "metadata": {},
   "outputs": [],
   "source": [
    "[Q1 – 1.5 (IQR) ,  Q3 + 1.5 (IQR) ] (i.e. IQR = Q3 - Q1)"
   ]
  },
  {
   "cell_type": "markdown",
   "id": "a1419e4c",
   "metadata": {},
   "source": [
    "# Listing 1-18"
   ]
  },
  {
   "cell_type": "code",
   "execution_count": 4,
   "id": "435c6045",
   "metadata": {},
   "outputs": [
    {
     "data": {
      "image/png": "[encoded data removed]",
      "text/plain": [
       "<Figure size 640x480 with 1 Axes>"
      ]
     },
     "metadata": {},
     "output_type": "display_data"
    }
   ],
   "source": [
    "box = data.boxplot(column=['tripduration'])\n",
    "plt.show()"
   ]
  },
  {
   "cell_type": "markdown",
   "id": "52aa3ecd",
   "metadata": {},
   "source": [
    "# Listing 1-19"
   ]
  },
  {
   "cell_type": "code",
   "execution_count": 5,
   "id": "0e7fb526",
   "metadata": {},
   "outputs": [
    {
     "name": "stdout",
     "output_type": "stream",
     "text": [
      "Proportion of values as outlier: 9.548218 percent\n"
     ]
    }
   ],
   "source": [
    "q75, q25 = np.percentile(trip_duration, [75 ,25])\n",
    "iqr = q75 - q25\n",
    "print('Proportion of values as outlier: %f percent'%(\n",
    "(len(data) - len([x for x in trip_duration if q75+(1.5*iqr) \n",
    ">=x>= q25-(1.5*iqr)]))*100/float(len(data))))"
   ]
  },
  {
   "cell_type": "markdown",
   "id": "40552ba5",
   "metadata": {},
   "source": [
    "# Listing 1-20"
   ]
  },
  {
   "cell_type": "code",
   "execution_count": null,
   "id": "abf85818",
   "metadata": {},
   "outputs": [],
   "source": [
    "Number of outliers values = Length of all values - Length of all non outliers values"
   ]
  },
  {
   "cell_type": "markdown",
   "id": "bfe3199b",
   "metadata": {},
   "source": [
    "# Listing 1-21"
   ]
  },
  {
   "cell_type": "code",
   "execution_count": null,
   "id": "0c44c726",
   "metadata": {},
   "outputs": [],
   "source": [
    "Ratio of outliers = ( Number of outliers values / Length of all values ) * 100"
   ]
  },
  {
   "cell_type": "markdown",
   "id": "5ec32d8f",
   "metadata": {},
   "source": [
    "# Listing 1-22"
   ]
  },
  {
   "cell_type": "code",
   "execution_count": 6,
   "id": "9d7bacad",
   "metadata": {},
   "outputs": [
    {
     "name": "stdout",
     "output_type": "stream",
     "text": [
      "Mean of trip duration: 711.726573\n"
     ]
    }
   ],
   "source": [
    "mean_trip_duration = np.mean([x for x in trip_duration if q75+(1.5*iqr) >=x>= q25-(1.5*iqr)])\n",
    "upper_whisker = q75+(1.5*iqr)\n",
    "print('Mean of trip duration: %f'%mean_trip_duration)"
   ]
  },
  {
   "cell_type": "markdown",
   "id": "60f9fb02",
   "metadata": {},
   "source": [
    "# Listing 1-23"
   ]
  },
  {
   "cell_type": "code",
   "execution_count": 9,
   "id": "2ddd3002",
   "metadata": {},
   "outputs": [
    {
     "data": {
      "image/png": "[encoded data removed]",
      "text/plain": [
       "<Figure size 640x480 with 1 Axes>"
      ]
     },
     "metadata": {},
     "output_type": "display_data"
    }
   ],
   "source": [
    "def transform_tripduration(x):\n",
    "    if x > upper_whisker:\n",
    "        return mean_trip_duration\n",
    "    return x\n",
    "\n",
    "data.loc[:,'tripduration_mean'] = data.loc[:,'tripduration'].apply(lambda x: transform_tripduration(x))\n",
    "data['tripduration_mean'].plot.hist(bins=100, title='Frequency distribution of mean transformed Trip duration')\n",
    "plt.show()"
   ]
  },
  {
   "cell_type": "markdown",
   "id": "bfd6764d",
   "metadata": {},
   "source": [
    "# Listing 1-24"
   ]
  },
  {
   "cell_type": "code",
   "execution_count": 10,
   "id": "317c3ebb",
   "metadata": {},
   "outputs": [
    {
     "name": "stdout",
     "output_type": "stream",
     "text": [
      "Mean of trip duration: 711.726573\n",
      "Standard deviation of trip duration: 435.517297\n",
      "Median of trip duration: 633.235000\n"
     ]
    }
   ],
   "source": [
    "print('Mean of trip duration: %f'%data['tripduration_mean'].mean())\n",
    "print('Standard deviation of trip duration: %f'%data['tripduration_mean'].std())\n",
    "print('Median of trip duration: %f'%data['tripduration_mean'].median())"
   ]
  },
  {
   "cell_type": "code",
   "execution_count": null,
   "id": "9d3c3807",
   "metadata": {},
   "outputs": [],
   "source": []
  },
  {
   "cell_type": "code",
   "execution_count": null,
   "id": "7479f03f",
   "metadata": {},
   "outputs": [],
   "source": []
  }
 ],
 "metadata": {
  "kernelspec": {
   "display_name": "Python 3 (ipykernel)",
   "language": "python",
   "name": "python3"
  },
  "language_info": {
   "codemirror_mode": {
    "name": "ipython",
    "version": 3
   },
   "file_extension": ".py",
   "mimetype": "text/x-python",
   "name": "python",
   "nbconvert_exporter": "python",
   "pygments_lexer": "ipython3",
   "version": "3.9.13"
  }
 },
 "nbformat": 4,
 "nbformat_minor": 5
}
