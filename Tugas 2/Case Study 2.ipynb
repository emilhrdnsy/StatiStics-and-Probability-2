{
 "cells": [
  {
   "cell_type": "markdown",
   "id": "59b1e74e",
   "metadata": {},
   "source": [
    "# Listing 1-1"
   ]
  },
  {
   "cell_type": "code",
   "execution_count": 4,
   "id": "a4677568-fbb5-474d-b22e-9b6044960efc",
   "metadata": {},
   "outputs": [],
   "source": [
    "# Mengimport Library\n",
    "%matplotlib inline\n",
    "import random\n",
    "import datetime\n",
    "import pandas as pd\n",
    "import matplotlib.pyplot as plt\n",
    "import statistics\n",
    "import numpy as np\n",
    "import scipy\n",
    "from scipy import stats\n",
    "import seaborn"
   ]
  },
  {
   "cell_type": "markdown",
   "id": "f9e107aa",
   "metadata": {},
   "source": [
    "# Listing 1-2"
   ]
  },
  {
   "cell_type": "code",
   "execution_count": 5,
   "id": "329e2e12-ee95-4752-a276-a8d36e4fd0ba",
   "metadata": {},
   "outputs": [],
   "source": [
    "# Membaca data yang ada di memori\n",
    "data = pd.read_csv('G:/Other computers/My Laptop/Semester 2/Big Data Analysis/Case Study 1/trip.csv')"
   ]
  },
  {
   "cell_type": "markdown",
   "id": "b3b4ac1c",
   "metadata": {},
   "source": [
    "# Listing 1-3"
   ]
  },
  {
   "cell_type": "code",
   "execution_count": 6,
   "id": "3cc768e3",
   "metadata": {
    "scrolled": true
   },
   "outputs": [
    {
     "name": "stdout",
     "output_type": "stream",
     "text": [
      "236065\n"
     ]
    },
    {
     "data": {
      "text/html": [
       "<div>\n",
       "<style scoped>\n",
       "    .dataframe tbody tr th:only-of-type {\n",
       "        vertical-align: middle;\n",
       "    }\n",
       "\n",
       "    .dataframe tbody tr th {\n",
       "        vertical-align: top;\n",
       "    }\n",
       "\n",
       "    .dataframe thead th {\n",
       "        text-align: right;\n",
       "    }\n",
       "</style>\n",
       "<table border=\"1\" class=\"dataframe\">\n",
       "  <thead>\n",
       "    <tr style=\"text-align: right;\">\n",
       "      <th></th>\n",
       "      <th>trip_id</th>\n",
       "      <th>starttime</th>\n",
       "      <th>stoptime</th>\n",
       "      <th>bikeid</th>\n",
       "      <th>tripduration</th>\n",
       "      <th>from_station_name</th>\n",
       "      <th>to_station_name</th>\n",
       "      <th>from_station_id</th>\n",
       "      <th>to_station_id</th>\n",
       "      <th>usertype</th>\n",
       "      <th>gender</th>\n",
       "      <th>birthyear</th>\n",
       "    </tr>\n",
       "  </thead>\n",
       "  <tbody>\n",
       "    <tr>\n",
       "      <th>0</th>\n",
       "      <td>431</td>\n",
       "      <td>10/13/2014 10:31</td>\n",
       "      <td>10/13/2014 10:48</td>\n",
       "      <td>SEA00298</td>\n",
       "      <td>985.935</td>\n",
       "      <td>2nd Ave &amp; Spring St</td>\n",
       "      <td>Occidental Park / Occidental Ave S &amp; S Washing...</td>\n",
       "      <td>CBD-06</td>\n",
       "      <td>PS-04</td>\n",
       "      <td>Member</td>\n",
       "      <td>Male</td>\n",
       "      <td>1960.0</td>\n",
       "    </tr>\n",
       "    <tr>\n",
       "      <th>1</th>\n",
       "      <td>432</td>\n",
       "      <td>10/13/2014 10:32</td>\n",
       "      <td>10/13/2014 10:48</td>\n",
       "      <td>SEA00195</td>\n",
       "      <td>926.375</td>\n",
       "      <td>2nd Ave &amp; Spring St</td>\n",
       "      <td>Occidental Park / Occidental Ave S &amp; S Washing...</td>\n",
       "      <td>CBD-06</td>\n",
       "      <td>PS-04</td>\n",
       "      <td>Member</td>\n",
       "      <td>Male</td>\n",
       "      <td>1970.0</td>\n",
       "    </tr>\n",
       "    <tr>\n",
       "      <th>2</th>\n",
       "      <td>433</td>\n",
       "      <td>10/13/2014 10:33</td>\n",
       "      <td>10/13/2014 10:48</td>\n",
       "      <td>SEA00486</td>\n",
       "      <td>883.831</td>\n",
       "      <td>2nd Ave &amp; Spring St</td>\n",
       "      <td>Occidental Park / Occidental Ave S &amp; S Washing...</td>\n",
       "      <td>CBD-06</td>\n",
       "      <td>PS-04</td>\n",
       "      <td>Member</td>\n",
       "      <td>Female</td>\n",
       "      <td>1988.0</td>\n",
       "    </tr>\n",
       "    <tr>\n",
       "      <th>3</th>\n",
       "      <td>434</td>\n",
       "      <td>10/13/2014 10:34</td>\n",
       "      <td>10/13/2014 10:48</td>\n",
       "      <td>SEA00333</td>\n",
       "      <td>865.937</td>\n",
       "      <td>2nd Ave &amp; Spring St</td>\n",
       "      <td>Occidental Park / Occidental Ave S &amp; S Washing...</td>\n",
       "      <td>CBD-06</td>\n",
       "      <td>PS-04</td>\n",
       "      <td>Member</td>\n",
       "      <td>Female</td>\n",
       "      <td>1977.0</td>\n",
       "    </tr>\n",
       "    <tr>\n",
       "      <th>4</th>\n",
       "      <td>435</td>\n",
       "      <td>10/13/2014 10:34</td>\n",
       "      <td>10/13/2014 10:49</td>\n",
       "      <td>SEA00202</td>\n",
       "      <td>923.923</td>\n",
       "      <td>2nd Ave &amp; Spring St</td>\n",
       "      <td>Occidental Park / Occidental Ave S &amp; S Washing...</td>\n",
       "      <td>CBD-06</td>\n",
       "      <td>PS-04</td>\n",
       "      <td>Member</td>\n",
       "      <td>Male</td>\n",
       "      <td>1971.0</td>\n",
       "    </tr>\n",
       "  </tbody>\n",
       "</table>\n",
       "</div>"
      ],
      "text/plain": [
       "   trip_id         starttime          stoptime    bikeid  tripduration  \\\n",
       "0      431  10/13/2014 10:31  10/13/2014 10:48  SEA00298       985.935   \n",
       "1      432  10/13/2014 10:32  10/13/2014 10:48  SEA00195       926.375   \n",
       "2      433  10/13/2014 10:33  10/13/2014 10:48  SEA00486       883.831   \n",
       "3      434  10/13/2014 10:34  10/13/2014 10:48  SEA00333       865.937   \n",
       "4      435  10/13/2014 10:34  10/13/2014 10:49  SEA00202       923.923   \n",
       "\n",
       "     from_station_name                                    to_station_name  \\\n",
       "0  2nd Ave & Spring St  Occidental Park / Occidental Ave S & S Washing...   \n",
       "1  2nd Ave & Spring St  Occidental Park / Occidental Ave S & S Washing...   \n",
       "2  2nd Ave & Spring St  Occidental Park / Occidental Ave S & S Washing...   \n",
       "3  2nd Ave & Spring St  Occidental Park / Occidental Ave S & S Washing...   \n",
       "4  2nd Ave & Spring St  Occidental Park / Occidental Ave S & S Washing...   \n",
       "\n",
       "  from_station_id to_station_id usertype  gender  birthyear  \n",
       "0          CBD-06         PS-04   Member    Male     1960.0  \n",
       "1          CBD-06         PS-04   Member    Male     1970.0  \n",
       "2          CBD-06         PS-04   Member  Female     1988.0  \n",
       "3          CBD-06         PS-04   Member  Female     1977.0  \n",
       "4          CBD-06         PS-04   Member    Male     1971.0  "
      ]
     },
     "execution_count": 6,
     "metadata": {},
     "output_type": "execute_result"
    }
   ],
   "source": [
    "# Mencetak ukuran dataset & mencetak beberapa baris pertama\n",
    "print(len(data))\n",
    "data.head() "
   ]
  },
  {
   "cell_type": "markdown",
   "id": "ad6a2e24",
   "metadata": {},
   "source": [
    "# Listing 1-15"
   ]
  },
  {
   "cell_type": "code",
   "execution_count": 7,
   "id": "80c853f1",
   "metadata": {},
   "outputs": [
    {
     "name": "stdout",
     "output_type": "stream",
     "text": [
      "Mean of trip duration: 1202.612210\n",
      "Median of trip duration: 633.235000\n",
      "Mode of station originating from: Pier 69 / Alaskan Way & Clay St\n"
     ]
    }
   ],
   "source": [
    "# Determining the Measures of Center Using Statistics Package\n",
    "# Menentukan Ukuran dari Pusat Menggunakan Statistics Package\n",
    "trip_duration = list(data['tripduration'])\n",
    "station_from = list(data['from_station_name'])\n",
    "print ('Mean of trip duration: %f' %statistics.mean(trip_duration))\n",
    "print ('Median of trip duration: %f' %statistics.median(trip_duration))\n",
    "print ('Mode of station originating from: %s' %statistics.mode(station_from))"
   ]
  },
  {
   "cell_type": "markdown",
   "id": "e56e3130",
   "metadata": {},
   "source": [
    "# Listing 1-16"
   ]
  },
  {
   "cell_type": "code",
   "execution_count": 8,
   "id": "621e0ae3",
   "metadata": {},
   "outputs": [
    {
     "data": {
      "image/png": "[encoded data removed]",
      "text/plain": [
       "<Figure size 640x480 with 1 Axes>"
      ]
     },
     "metadata": {},
     "output_type": "display_data"
    }
   ],
   "source": [
    "# Plotting Histogram of Trip Duration\n",
    "# Melakukan Plot Histigram untuk Trip Duration\n",
    "data['tripduration'].plot.hist(bins=100, title='Frequency distribution of Trip duration')\n",
    "plt.show()"
   ]
  },
  {
   "cell_type": "markdown",
   "id": "0728027c",
   "metadata": {},
   "source": [
    "# Listing 1-17"
   ]
  },
  {
   "cell_type": "code",
   "execution_count": 9,
   "id": "9d1320e2",
   "metadata": {},
   "outputs": [],
   "source": [
    "# Interval of Values Not Considered Outliers\n",
    "# Interval Nilai yang Tidak Dianggap Outlier\n",
    "# [Q1 - 1.5 (IQR) , Q3 + 1.5 (IQR) ] (i.e. IQR == Q3 - Q1)"
   ]
  },
  {
   "cell_type": "markdown",
   "id": "bcefcc80",
   "metadata": {},
   "source": [
    "# Listing 1-18"
   ]
  },
  {
   "cell_type": "code",
   "execution_count": 10,
   "id": "29e183f8",
   "metadata": {},
   "outputs": [
    {
     "data": {
      "image/png": "[encoded data removed]",
      "text/plain": [
       "<Figure size 640x480 with 1 Axes>"
      ]
     },
     "metadata": {},
     "output_type": "display_data"
    }
   ],
   "source": [
    "# Plotting a Box plot of Trip Duration\n",
    "# plotting Box plot dari Trip Duration\n",
    "box = data.boxplot(column=['tripduration'])\n",
    "plt.show()"
   ]
  },
  {
   "cell_type": "markdown",
   "id": "0b28582d",
   "metadata": {},
   "source": [
    "# Listing 1-19"
   ]
  },
  {
   "cell_type": "code",
   "execution_count": 11,
   "id": "2bf2d985",
   "metadata": {},
   "outputs": [
    {
     "name": "stdout",
     "output_type": "stream",
     "text": [
      "Proportion of values as outlier: 9.548218 percent\n"
     ]
    }
   ],
   "source": [
    "# Determining Ratio of Values in Observations of tripduration Which Are Outliers\n",
    "# menetukan rasio nilai dalam observasi dari trip duration yang Outlier\n",
    "#[Q1 – 1.5 (IQR) , Q3 + 1.5 (IQR) ] (i.e. IQR = Q3 - Q1)\n",
    "\n",
    "q75, q25 = np.percentile(trip_duration, [75 ,25]) \n",
    "iqr = q75 - q25\n",
    "print ('Proportion of values as outlier: %f percent'%((len(data) - len([x for x in trip_duration if q75+(1.5*iqr)\n",
    "    >=x>= q25-(1.5*iqr)]))*100/float(len(data))))"
   ]
  },
  {
   "cell_type": "markdown",
   "id": "a6655a0c",
   "metadata": {},
   "source": [
    "# Listing 1-20"
   ]
  },
  {
   "cell_type": "code",
   "execution_count": 12,
   "id": "020f2632",
   "metadata": {},
   "outputs": [
    {
     "data": {
      "text/plain": [
       "22540"
      ]
     },
     "execution_count": 12,
     "metadata": {},
     "output_type": "execute_result"
    }
   ],
   "source": [
    "#Number of outliers values = Length of all values - Length of all non outliers values \n",
    "Number_of_outliers_values = len(data) - len([x for x in trip_duration if q75+(1.5*iqr) >=x>= q25-(1.5*iqr)])\n",
    "Number_of_outliers_values"
   ]
  },
  {
   "cell_type": "markdown",
   "id": "8cfb3eb2",
   "metadata": {},
   "source": [
    "# Listing 1-21"
   ]
  },
  {
   "cell_type": "code",
   "execution_count": 13,
   "id": "c7680b37",
   "metadata": {},
   "outputs": [
    {
     "data": {
      "text/plain": [
       "9.548217651917904"
      ]
     },
     "execution_count": 13,
     "metadata": {},
     "output_type": "execute_result"
    }
   ],
   "source": [
    "Ratio_of_outliers = ( Number_of_outliers_values / len(data) ) * 100\n",
    "Ratio_of_outliers"
   ]
  },
  {
   "cell_type": "markdown",
   "id": "a0220828",
   "metadata": {},
   "source": [
    "# Listing 1-22"
   ]
  },
  {
   "cell_type": "code",
   "execution_count": 14,
   "id": "722f1e6f",
   "metadata": {},
   "outputs": [
    {
     "name": "stdout",
     "output_type": "stream",
     "text": [
      "Mean of trip duration: 711.726573\n"
     ]
    }
   ],
   "source": [
    "mean_trip_duration = np.mean([x for x in trip_duration if q75+(1.5*iqr) >=x>= q25-(1.5*iqr)])\n",
    "upper_whisker = q75+(1.5*iqr)\n",
    "print ('Mean of trip duration: %f'%mean_trip_duration)"
   ]
  },
  {
   "cell_type": "markdown",
   "id": "a8b73645",
   "metadata": {},
   "source": [
    "# Listing 1-23"
   ]
  },
  {
   "cell_type": "code",
   "execution_count": 15,
   "id": "4ebf3b40",
   "metadata": {},
   "outputs": [
    {
     "data": {
      "image/png": "[encoded data removed]",
      "text/plain": [
       "<Figure size 640x480 with 1 Axes>"
      ]
     },
     "metadata": {},
     "output_type": "display_data"
    }
   ],
   "source": [
    "def transform_tripduration(x):\n",
    "    if x > upper_whisker:\n",
    "        return mean_trip_duration\n",
    "    return x\n",
    "data['tripduration_mean'] = data['tripduration'].apply(lambda x: transform_tripduration(x))\n",
    "data['tripduration_mean'].plot.hist(bins=100, title='Frequency distribution of mean transformed Trip duration')\n",
    "plt.show()"
   ]
  },
  {
   "cell_type": "markdown",
   "id": "76ea432a",
   "metadata": {},
   "source": [
    "# Listing 1-24"
   ]
  },
  {
   "cell_type": "code",
   "execution_count": 16,
   "id": "d201d772",
   "metadata": {},
   "outputs": [
    {
     "name": "stdout",
     "output_type": "stream",
     "text": [
      "Mean of trip duration: 711.726573\n",
      "Standard deviation of trip duration: 435.517297\n",
      "Median of trip duration: 633.235000\n"
     ]
    }
   ],
   "source": [
    "print ('Mean of trip duration: %f'%data['tripduration_mean'].mean())\n",
    "print ('Standard deviation of trip duration: %f'%data['tripduration_mean'].std())\n",
    "print ('Median of trip duration: %f'%data['tripduration_mean'].median())"
   ]
  }
 ],
 "metadata": {
  "kernelspec": {
   "display_name": "Python 3 (ipykernel)",
   "language": "python",
   "name": "python3"
  },
  "language_info": {
   "codemirror_mode": {
    "name": "ipython",
    "version": 3
   },
   "file_extension": ".py",
   "mimetype": "text/x-python",
   "name": "python",
   "nbconvert_exporter": "python",
   "pygments_lexer": "ipython3",
   "version": "3.9.13"
  }
 },
 "nbformat": 4,
 "nbformat_minor": 5
}
