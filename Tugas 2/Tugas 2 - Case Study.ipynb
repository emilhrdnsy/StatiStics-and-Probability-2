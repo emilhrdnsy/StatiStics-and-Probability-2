{
 "cells": [
  {
   "cell_type": "markdown",
   "id": "3b84d6e7",
   "metadata": {},
   "source": [
    "### Mengimport Library"
   ]
  },
  {
   "cell_type": "code",
   "execution_count": 18,
   "id": "23ee3cba",
   "metadata": {},
   "outputs": [],
   "source": [
    "%matplotlib inline\n",
    "\n",
    "# Mengimport Library\n",
    "%matplotlib inline\n",
    "import random\n",
    "import datetime\n",
    "import pandas as pd\n",
    "import matplotlib.pyplot as plt\n",
    "import statistics\n",
    "import numpy as np\n",
    "import scipy\n",
    "from scipy import stats\n",
    "import seaborn"
   ]
  },
  {
   "cell_type": "markdown",
   "id": "6bfe1b6b",
   "metadata": {},
   "source": [
    "### Mengimport file dataset"
   ]
  },
  {
   "cell_type": "code",
   "execution_count": 10,
   "id": "6d0d00b4",
   "metadata": {},
   "outputs": [],
   "source": [
    "data = pd.read_csv('G:/Other computers/My Laptop/Semester 2/Big Data Analysis/Case Study 1/trip.csv') #Membaca file dataset"
   ]
  },
  {
   "cell_type": "code",
   "execution_count": 11,
   "id": "feb32593",
   "metadata": {},
   "outputs": [
    {
     "name": "stdout",
     "output_type": "stream",
     "text": [
      "236065\n"
     ]
    },
    {
     "data": {
      "text/html": [
       "<div>\n",
       "<style scoped>\n",
       "    .dataframe tbody tr th:only-of-type {\n",
       "        vertical-align: middle;\n",
       "    }\n",
       "\n",
       "    .dataframe tbody tr th {\n",
       "        vertical-align: top;\n",
       "    }\n",
       "\n",
       "    .dataframe thead th {\n",
       "        text-align: right;\n",
       "    }\n",
       "</style>\n",
       "<table border=\"1\" class=\"dataframe\">\n",
       "  <thead>\n",
       "    <tr style=\"text-align: right;\">\n",
       "      <th></th>\n",
       "      <th>trip_id</th>\n",
       "      <th>starttime</th>\n",
       "      <th>stoptime</th>\n",
       "      <th>bikeid</th>\n",
       "      <th>tripduration</th>\n",
       "      <th>from_station_name</th>\n",
       "      <th>to_station_name</th>\n",
       "      <th>from_station_id</th>\n",
       "      <th>to_station_id</th>\n",
       "      <th>usertype</th>\n",
       "      <th>gender</th>\n",
       "      <th>birthyear</th>\n",
       "    </tr>\n",
       "  </thead>\n",
       "  <tbody>\n",
       "    <tr>\n",
       "      <th>0</th>\n",
       "      <td>431</td>\n",
       "      <td>10/13/2014 10:31</td>\n",
       "      <td>10/13/2014 10:48</td>\n",
       "      <td>SEA00298</td>\n",
       "      <td>985.935</td>\n",
       "      <td>2nd Ave &amp; Spring St</td>\n",
       "      <td>Occidental Park / Occidental Ave S &amp; S Washing...</td>\n",
       "      <td>CBD-06</td>\n",
       "      <td>PS-04</td>\n",
       "      <td>Member</td>\n",
       "      <td>Male</td>\n",
       "      <td>1960.0</td>\n",
       "    </tr>\n",
       "    <tr>\n",
       "      <th>1</th>\n",
       "      <td>432</td>\n",
       "      <td>10/13/2014 10:32</td>\n",
       "      <td>10/13/2014 10:48</td>\n",
       "      <td>SEA00195</td>\n",
       "      <td>926.375</td>\n",
       "      <td>2nd Ave &amp; Spring St</td>\n",
       "      <td>Occidental Park / Occidental Ave S &amp; S Washing...</td>\n",
       "      <td>CBD-06</td>\n",
       "      <td>PS-04</td>\n",
       "      <td>Member</td>\n",
       "      <td>Male</td>\n",
       "      <td>1970.0</td>\n",
       "    </tr>\n",
       "    <tr>\n",
       "      <th>2</th>\n",
       "      <td>433</td>\n",
       "      <td>10/13/2014 10:33</td>\n",
       "      <td>10/13/2014 10:48</td>\n",
       "      <td>SEA00486</td>\n",
       "      <td>883.831</td>\n",
       "      <td>2nd Ave &amp; Spring St</td>\n",
       "      <td>Occidental Park / Occidental Ave S &amp; S Washing...</td>\n",
       "      <td>CBD-06</td>\n",
       "      <td>PS-04</td>\n",
       "      <td>Member</td>\n",
       "      <td>Female</td>\n",
       "      <td>1988.0</td>\n",
       "    </tr>\n",
       "    <tr>\n",
       "      <th>3</th>\n",
       "      <td>434</td>\n",
       "      <td>10/13/2014 10:34</td>\n",
       "      <td>10/13/2014 10:48</td>\n",
       "      <td>SEA00333</td>\n",
       "      <td>865.937</td>\n",
       "      <td>2nd Ave &amp; Spring St</td>\n",
       "      <td>Occidental Park / Occidental Ave S &amp; S Washing...</td>\n",
       "      <td>CBD-06</td>\n",
       "      <td>PS-04</td>\n",
       "      <td>Member</td>\n",
       "      <td>Female</td>\n",
       "      <td>1977.0</td>\n",
       "    </tr>\n",
       "    <tr>\n",
       "      <th>4</th>\n",
       "      <td>435</td>\n",
       "      <td>10/13/2014 10:34</td>\n",
       "      <td>10/13/2014 10:49</td>\n",
       "      <td>SEA00202</td>\n",
       "      <td>923.923</td>\n",
       "      <td>2nd Ave &amp; Spring St</td>\n",
       "      <td>Occidental Park / Occidental Ave S &amp; S Washing...</td>\n",
       "      <td>CBD-06</td>\n",
       "      <td>PS-04</td>\n",
       "      <td>Member</td>\n",
       "      <td>Male</td>\n",
       "      <td>1971.0</td>\n",
       "    </tr>\n",
       "  </tbody>\n",
       "</table>\n",
       "</div>"
      ],
      "text/plain": [
       "   trip_id         starttime          stoptime    bikeid  tripduration  \\\n",
       "0      431  10/13/2014 10:31  10/13/2014 10:48  SEA00298       985.935   \n",
       "1      432  10/13/2014 10:32  10/13/2014 10:48  SEA00195       926.375   \n",
       "2      433  10/13/2014 10:33  10/13/2014 10:48  SEA00486       883.831   \n",
       "3      434  10/13/2014 10:34  10/13/2014 10:48  SEA00333       865.937   \n",
       "4      435  10/13/2014 10:34  10/13/2014 10:49  SEA00202       923.923   \n",
       "\n",
       "     from_station_name                                    to_station_name  \\\n",
       "0  2nd Ave & Spring St  Occidental Park / Occidental Ave S & S Washing...   \n",
       "1  2nd Ave & Spring St  Occidental Park / Occidental Ave S & S Washing...   \n",
       "2  2nd Ave & Spring St  Occidental Park / Occidental Ave S & S Washing...   \n",
       "3  2nd Ave & Spring St  Occidental Park / Occidental Ave S & S Washing...   \n",
       "4  2nd Ave & Spring St  Occidental Park / Occidental Ave S & S Washing...   \n",
       "\n",
       "  from_station_id to_station_id usertype  gender  birthyear  \n",
       "0          CBD-06         PS-04   Member    Male     1960.0  \n",
       "1          CBD-06         PS-04   Member    Male     1970.0  \n",
       "2          CBD-06         PS-04   Member  Female     1988.0  \n",
       "3          CBD-06         PS-04   Member  Female     1977.0  \n",
       "4          CBD-06         PS-04   Member    Male     1971.0  "
      ]
     },
     "execution_count": 11,
     "metadata": {},
     "output_type": "execute_result"
    }
   ],
   "source": [
    "print(len(data))\n",
    "data.head()"
   ]
  },
  {
   "cell_type": "markdown",
   "id": "5bb30e4e",
   "metadata": {},
   "source": [
    "### a. Find the mean, median, and mode of the trip duration of gender type male."
   ]
  },
  {
   "cell_type": "code",
   "execution_count": 12,
   "id": "5db2089e",
   "metadata": {},
   "outputs": [
    {
     "data": {
      "text/html": [
       "<div>\n",
       "<style scoped>\n",
       "    .dataframe tbody tr th:only-of-type {\n",
       "        vertical-align: middle;\n",
       "    }\n",
       "\n",
       "    .dataframe tbody tr th {\n",
       "        vertical-align: top;\n",
       "    }\n",
       "\n",
       "    .dataframe thead th {\n",
       "        text-align: right;\n",
       "    }\n",
       "</style>\n",
       "<table border=\"1\" class=\"dataframe\">\n",
       "  <thead>\n",
       "    <tr style=\"text-align: right;\">\n",
       "      <th></th>\n",
       "      <th>trip_id</th>\n",
       "      <th>starttime</th>\n",
       "      <th>stoptime</th>\n",
       "      <th>bikeid</th>\n",
       "      <th>tripduration</th>\n",
       "      <th>from_station_name</th>\n",
       "      <th>to_station_name</th>\n",
       "      <th>from_station_id</th>\n",
       "      <th>to_station_id</th>\n",
       "      <th>usertype</th>\n",
       "      <th>gender</th>\n",
       "      <th>birthyear</th>\n",
       "    </tr>\n",
       "  </thead>\n",
       "  <tbody>\n",
       "    <tr>\n",
       "      <th>0</th>\n",
       "      <td>431</td>\n",
       "      <td>10/13/2014 10:31</td>\n",
       "      <td>10/13/2014 10:48</td>\n",
       "      <td>SEA00298</td>\n",
       "      <td>985.935</td>\n",
       "      <td>2nd Ave &amp; Spring St</td>\n",
       "      <td>Occidental Park / Occidental Ave S &amp; S Washing...</td>\n",
       "      <td>CBD-06</td>\n",
       "      <td>PS-04</td>\n",
       "      <td>Member</td>\n",
       "      <td>Male</td>\n",
       "      <td>1960.0</td>\n",
       "    </tr>\n",
       "    <tr>\n",
       "      <th>1</th>\n",
       "      <td>432</td>\n",
       "      <td>10/13/2014 10:32</td>\n",
       "      <td>10/13/2014 10:48</td>\n",
       "      <td>SEA00195</td>\n",
       "      <td>926.375</td>\n",
       "      <td>2nd Ave &amp; Spring St</td>\n",
       "      <td>Occidental Park / Occidental Ave S &amp; S Washing...</td>\n",
       "      <td>CBD-06</td>\n",
       "      <td>PS-04</td>\n",
       "      <td>Member</td>\n",
       "      <td>Male</td>\n",
       "      <td>1970.0</td>\n",
       "    </tr>\n",
       "    <tr>\n",
       "      <th>4</th>\n",
       "      <td>435</td>\n",
       "      <td>10/13/2014 10:34</td>\n",
       "      <td>10/13/2014 10:49</td>\n",
       "      <td>SEA00202</td>\n",
       "      <td>923.923</td>\n",
       "      <td>2nd Ave &amp; Spring St</td>\n",
       "      <td>Occidental Park / Occidental Ave S &amp; S Washing...</td>\n",
       "      <td>CBD-06</td>\n",
       "      <td>PS-04</td>\n",
       "      <td>Member</td>\n",
       "      <td>Male</td>\n",
       "      <td>1971.0</td>\n",
       "    </tr>\n",
       "    <tr>\n",
       "      <th>5</th>\n",
       "      <td>436</td>\n",
       "      <td>10/13/2014 10:34</td>\n",
       "      <td>10/13/2014 10:47</td>\n",
       "      <td>SEA00337</td>\n",
       "      <td>808.805</td>\n",
       "      <td>2nd Ave &amp; Spring St</td>\n",
       "      <td>Occidental Park / Occidental Ave S &amp; S Washing...</td>\n",
       "      <td>CBD-06</td>\n",
       "      <td>PS-04</td>\n",
       "      <td>Member</td>\n",
       "      <td>Male</td>\n",
       "      <td>1974.0</td>\n",
       "    </tr>\n",
       "    <tr>\n",
       "      <th>6</th>\n",
       "      <td>437</td>\n",
       "      <td>10/13/2014 11:35</td>\n",
       "      <td>10/13/2014 11:45</td>\n",
       "      <td>SEA00202</td>\n",
       "      <td>596.715</td>\n",
       "      <td>Occidental Park / Occidental Ave S &amp; S Washing...</td>\n",
       "      <td>King Street Station Plaza / 2nd Ave Extension ...</td>\n",
       "      <td>PS-04</td>\n",
       "      <td>PS-05</td>\n",
       "      <td>Member</td>\n",
       "      <td>Male</td>\n",
       "      <td>1978.0</td>\n",
       "    </tr>\n",
       "    <tr>\n",
       "      <th>...</th>\n",
       "      <td>...</td>\n",
       "      <td>...</td>\n",
       "      <td>...</td>\n",
       "      <td>...</td>\n",
       "      <td>...</td>\n",
       "      <td>...</td>\n",
       "      <td>...</td>\n",
       "      <td>...</td>\n",
       "      <td>...</td>\n",
       "      <td>...</td>\n",
       "      <td>...</td>\n",
       "      <td>...</td>\n",
       "    </tr>\n",
       "    <tr>\n",
       "      <th>236049</th>\n",
       "      <td>255230</td>\n",
       "      <td>8/31/2016 21:27</td>\n",
       "      <td>8/31/2016 21:30</td>\n",
       "      <td>SEA00056</td>\n",
       "      <td>198.324</td>\n",
       "      <td>Republican St &amp; Westlake Ave N</td>\n",
       "      <td>Dexter Ave N &amp; Aloha St</td>\n",
       "      <td>SLU-04</td>\n",
       "      <td>SLU-02</td>\n",
       "      <td>Member</td>\n",
       "      <td>Male</td>\n",
       "      <td>1981.0</td>\n",
       "    </tr>\n",
       "    <tr>\n",
       "      <th>236051</th>\n",
       "      <td>255232</td>\n",
       "      <td>8/31/2016 21:59</td>\n",
       "      <td>8/31/2016 22:04</td>\n",
       "      <td>SEA00499</td>\n",
       "      <td>308.484</td>\n",
       "      <td>E Harrison St &amp; Broadway Ave E</td>\n",
       "      <td>Bellevue Ave &amp; E Pine St</td>\n",
       "      <td>CH-02</td>\n",
       "      <td>CH-12</td>\n",
       "      <td>Member</td>\n",
       "      <td>Male</td>\n",
       "      <td>1989.0</td>\n",
       "    </tr>\n",
       "    <tr>\n",
       "      <th>236053</th>\n",
       "      <td>255234</td>\n",
       "      <td>8/31/2016 22:02</td>\n",
       "      <td>8/31/2016 22:17</td>\n",
       "      <td>SEA00448</td>\n",
       "      <td>879.160</td>\n",
       "      <td>Key Arena / 1st Ave N &amp; Harrison St</td>\n",
       "      <td>Pier 66 / Alaskan Way &amp; Bell St</td>\n",
       "      <td>SLU-19</td>\n",
       "      <td>WF-03</td>\n",
       "      <td>Member</td>\n",
       "      <td>Male</td>\n",
       "      <td>1981.0</td>\n",
       "    </tr>\n",
       "    <tr>\n",
       "      <th>236055</th>\n",
       "      <td>255236</td>\n",
       "      <td>8/31/2016 22:13</td>\n",
       "      <td>8/31/2016 22:25</td>\n",
       "      <td>SEA00254</td>\n",
       "      <td>674.993</td>\n",
       "      <td>3rd Ave &amp; Broad St</td>\n",
       "      <td>Occidental Park / Occidental Ave S &amp; S Washing...</td>\n",
       "      <td>BT-01</td>\n",
       "      <td>PS-04</td>\n",
       "      <td>Member</td>\n",
       "      <td>Male</td>\n",
       "      <td>1984.0</td>\n",
       "    </tr>\n",
       "    <tr>\n",
       "      <th>236056</th>\n",
       "      <td>255237</td>\n",
       "      <td>8/31/2016 22:37</td>\n",
       "      <td>8/31/2016 22:39</td>\n",
       "      <td>SEA00330</td>\n",
       "      <td>144.477</td>\n",
       "      <td>Summit Ave &amp; E Denny Way</td>\n",
       "      <td>Summit Ave E &amp; E Republican St</td>\n",
       "      <td>CH-01</td>\n",
       "      <td>CH-03</td>\n",
       "      <td>Member</td>\n",
       "      <td>Male</td>\n",
       "      <td>1990.0</td>\n",
       "    </tr>\n",
       "  </tbody>\n",
       "</table>\n",
       "<p>112940 rows × 12 columns</p>\n",
       "</div>"
      ],
      "text/plain": [
       "        trip_id         starttime          stoptime    bikeid  tripduration  \\\n",
       "0           431  10/13/2014 10:31  10/13/2014 10:48  SEA00298       985.935   \n",
       "1           432  10/13/2014 10:32  10/13/2014 10:48  SEA00195       926.375   \n",
       "4           435  10/13/2014 10:34  10/13/2014 10:49  SEA00202       923.923   \n",
       "5           436  10/13/2014 10:34  10/13/2014 10:47  SEA00337       808.805   \n",
       "6           437  10/13/2014 11:35  10/13/2014 11:45  SEA00202       596.715   \n",
       "...         ...               ...               ...       ...           ...   \n",
       "236049   255230   8/31/2016 21:27   8/31/2016 21:30  SEA00056       198.324   \n",
       "236051   255232   8/31/2016 21:59   8/31/2016 22:04  SEA00499       308.484   \n",
       "236053   255234   8/31/2016 22:02   8/31/2016 22:17  SEA00448       879.160   \n",
       "236055   255236   8/31/2016 22:13   8/31/2016 22:25  SEA00254       674.993   \n",
       "236056   255237   8/31/2016 22:37   8/31/2016 22:39  SEA00330       144.477   \n",
       "\n",
       "                                        from_station_name  \\\n",
       "0                                     2nd Ave & Spring St   \n",
       "1                                     2nd Ave & Spring St   \n",
       "4                                     2nd Ave & Spring St   \n",
       "5                                     2nd Ave & Spring St   \n",
       "6       Occidental Park / Occidental Ave S & S Washing...   \n",
       "...                                                   ...   \n",
       "236049                     Republican St & Westlake Ave N   \n",
       "236051                     E Harrison St & Broadway Ave E   \n",
       "236053                Key Arena / 1st Ave N & Harrison St   \n",
       "236055                                 3rd Ave & Broad St   \n",
       "236056                           Summit Ave & E Denny Way   \n",
       "\n",
       "                                          to_station_name from_station_id  \\\n",
       "0       Occidental Park / Occidental Ave S & S Washing...          CBD-06   \n",
       "1       Occidental Park / Occidental Ave S & S Washing...          CBD-06   \n",
       "4       Occidental Park / Occidental Ave S & S Washing...          CBD-06   \n",
       "5       Occidental Park / Occidental Ave S & S Washing...          CBD-06   \n",
       "6       King Street Station Plaza / 2nd Ave Extension ...           PS-04   \n",
       "...                                                   ...             ...   \n",
       "236049                            Dexter Ave N & Aloha St          SLU-04   \n",
       "236051                           Bellevue Ave & E Pine St           CH-02   \n",
       "236053                    Pier 66 / Alaskan Way & Bell St          SLU-19   \n",
       "236055  Occidental Park / Occidental Ave S & S Washing...           BT-01   \n",
       "236056                     Summit Ave E & E Republican St           CH-01   \n",
       "\n",
       "       to_station_id usertype gender  birthyear  \n",
       "0              PS-04   Member   Male     1960.0  \n",
       "1              PS-04   Member   Male     1970.0  \n",
       "4              PS-04   Member   Male     1971.0  \n",
       "5              PS-04   Member   Male     1974.0  \n",
       "6              PS-05   Member   Male     1978.0  \n",
       "...              ...      ...    ...        ...  \n",
       "236049        SLU-02   Member   Male     1981.0  \n",
       "236051         CH-12   Member   Male     1989.0  \n",
       "236053         WF-03   Member   Male     1981.0  \n",
       "236055         PS-04   Member   Male     1984.0  \n",
       "236056         CH-03   Member   Male     1990.0  \n",
       "\n",
       "[112940 rows x 12 columns]"
      ]
     },
     "execution_count": 12,
     "metadata": {},
     "output_type": "execute_result"
    }
   ],
   "source": [
    "# filter data khusus \"Male\"\n",
    "data_male = data[data['gender'] == 'Male']\n",
    "data_male"
   ]
  },
  {
   "cell_type": "code",
   "execution_count": 13,
   "id": "a26d756e",
   "metadata": {},
   "outputs": [
    {
     "name": "stdout",
     "output_type": "stream",
     "text": [
      "Mean of trip duration: 563.402797\n",
      "Median of trip duration: 458.451500\n",
      "Mode of the trip duration: 466.174\n"
     ]
    }
   ],
   "source": [
    "trip_duration = list(data_male['tripduration'])\n",
    "station_from = list(data_male['from_station_name'])\n",
    "print ('Mean of trip duration: %f' %statistics.mean(trip_duration))\n",
    "print ('Median of trip duration: %f' %statistics.median(trip_duration))\n",
    "print ('Mode of the trip duration: %s' %statistics.mode(trip_duration))"
   ]
  },
  {
   "cell_type": "markdown",
   "id": "eac0f5f4",
   "metadata": {},
   "source": [
    "### b. By looking at the numbers obtained earlier, in your opinion is the distribution symmetric or skewed? If skewed, then is is it positively skewed or negatively skewed?"
   ]
  },
  {
   "cell_type": "markdown",
   "id": "2f9a4928",
   "metadata": {},
   "source": [
    "Berdasarkan rata-rata yang lebih besar dibandingkan nilai tengah atau Mean > Median\n",
    "\n",
    "ada kemungkinan distribusinya tidak simetris karena jarak antara mean dan median jauh, dan distribusinya kemungkinan miring.\n",
    "\n",
    "Untuk kemiringan distribusi tidak bisa ditebak, karena positively skewed dan negatively skewed sama-sama bisa terjadi karena mean > median begitupun sebaliknya"
   ]
  },
  {
   "cell_type": "markdown",
   "id": "bed51141",
   "metadata": {},
   "source": [
    "### c. Plot a frequency distribution of trip duration for trips availed by gender type male. Does it validate your inference as you did so in the previous question?"
   ]
  },
  {
   "cell_type": "code",
   "execution_count": 15,
   "id": "aeb87d0e",
   "metadata": {},
   "outputs": [
    {
     "data": {
      "image/png": "[encoded data removed]",
      "text/plain": [
       "<Figure size 640x480 with 1 Axes>"
      ]
     },
     "metadata": {},
     "output_type": "display_data"
    }
   ],
   "source": [
    "data_male['tripduration'].plot.hist(bins=100, title='Frequency distribution of Trip duration')\n",
    "plt.show()"
   ]
  },
  {
   "cell_type": "markdown",
   "id": "e3affaf7",
   "metadata": {},
   "source": [
    "### d. Plot a box plot of the trip duration of trips taken by males. Do you think any outliers exist?"
   ]
  },
  {
   "cell_type": "code",
   "execution_count": 16,
   "id": "5d979c7b",
   "metadata": {
    "scrolled": false
   },
   "outputs": [
    {
     "data": {
      "image/png": "[encoded data removed]",
      "text/plain": [
       "<Figure size 640x480 with 1 Axes>"
      ]
     },
     "metadata": {},
     "output_type": "display_data"
    }
   ],
   "source": [
    "box = data_male.boxplot(column=['tripduration'], showfliers = True)\n",
    "plt.show()"
   ]
  },
  {
   "cell_type": "markdown",
   "id": "b03d31ac",
   "metadata": {},
   "source": [
    "### e. Apply the formula in Listing 1-19 to determine the percentage of observations for which outliers exists."
   ]
  },
  {
   "cell_type": "code",
   "execution_count": 19,
   "id": "97da854a",
   "metadata": {},
   "outputs": [
    {
     "name": "stdout",
     "output_type": "stream",
     "text": [
      "Proportion of values as outlier: 5.030104 percent\n"
     ]
    }
   ],
   "source": [
    "q75, q25 = np.percentile(trip_duration, [75 ,25])\n",
    "iqr = q75 - q25\n",
    "print ('Proportion of values as outlier: %f percent' \n",
    "       %((len(data_male) - len([x for x in trip_duration \n",
    "                                if q75+(1.5*iqr)>=x>= q25-(1.5*iqr)]))*100/float(len(data_male))))"
   ]
  },
  {
   "cell_type": "markdown",
   "id": "64a2db2d",
   "metadata": {},
   "source": [
    "### f. Perform the treatment of outliers by incorporating one of the methods we discussed earlier for the treatment of outliers (lihat penjelasan di halaman 28). Untuk STB Ganjil gunakan metode \"replace outliers with mean\", STB Genap gunakan metode \"transform the outlier values to upper boundary atau to lower boundary)."
   ]
  },
  {
   "cell_type": "code",
   "execution_count": 20,
   "id": "acd7eefb",
   "metadata": {},
   "outputs": [
    {
     "data": {
      "image/png": "[encoded data removed]",
      "text/plain": [
       "<Figure size 640x480 with 1 Axes>"
      ]
     },
     "metadata": {},
     "output_type": "display_data"
    }
   ],
   "source": [
    "mean_trip_duration = np.mean([x for x in trip_duration if q75+(1.5*iqr) >=x>= q25-(1.5*iqr)])\n",
    "upper_whisker = q75+(1.5*iqr)\n",
    "\n",
    "def transform_tripduration(x):\n",
    "    if x > upper_whisker:\n",
    "        return mean_trip_duration\n",
    "    return x\n",
    "\n",
    "data['tripduration_mean'] = data_male['tripduration'].apply( lambda x: transform_tripduration(x))\n",
    "data['tripduration_mean'].plot.hist( bins=100, title='Frequency distribution of mean transformed Trip duration')\n",
    "plt.show()"
   ]
  }
 ],
 "metadata": {
  "kernelspec": {
   "display_name": "Python 3 (ipykernel)",
   "language": "python",
   "name": "python3"
  },
  "language_info": {
   "codemirror_mode": {
    "name": "ipython",
    "version": 3
   },
   "file_extension": ".py",
   "mimetype": "text/x-python",
   "name": "python",
   "nbconvert_exporter": "python",
   "pygments_lexer": "ipython3",
   "version": "3.9.13"
  }
 },
 "nbformat": 4,
 "nbformat_minor": 5
}
